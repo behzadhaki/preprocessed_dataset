{
 "cells": [
  {
   "cell_type": "markdown",
   "metadata": {
    "pycharm": {
     "name": "#%%\n"
    }
   },
   "source": [
    " ###### Classes in Subset_Creators.subsetters can be used to automatically create subsets of a given dataset processed into HVO_Sequence (>= 0.3.0)\n",
    " "
   ]
  },
  {
   "cell_type": "markdown",
   "metadata": {
    "pycharm": {
     "name": "#%%\n"
    }
   },
   "source": [
    "## 1. GrooveMidiSubsetter \n",
    "Use this class to create multiple subsets with specific requirements for each subset"
   ]
  },
  {
   "cell_type": "code",
   "execution_count": null,
   "metadata": {
    "pycharm": {
     "name": "#%%\n"
    }
   },
   "outputs": [],
   "source": [
    "from subsetters import GrooveMidiSubsetter"
   ]
  },
  {
   "cell_type": "markdown",
   "metadata": {
    "pycharm": {
     "name": "#%%\n"
    }
   },
   "source": [
    "### Procedure\n",
    "\n",
    "### <u> A. </u>  Create a list of filter dictionaries for creating the subsets\n",
    "\n",
    "##### Filters are lists of dictionaries. Each element in the list (which is a dict) refers to a set of specifications \n",
    "\n",
    "##### THE VALUES IN THE DICTIONARY SHOULD ALSO BE LISTS (SEE FORMATTING BELOW). THIS ENSURES THAT MULTIPLE SPECIFICATIONS PER FEATURE IS ALLOWED IN THE SUBSETTING PROCESS\n",
    "\n",
    "\n",
    "\n",
    "\n",
    "GROOVEMIDI_FILTER_TEMPLATE = [{\n",
    "\n",
    "    \"drummer\": ,                                    # [\"drummer1\", ..., and/or \"session9\"]\n",
    "    \"session\": ,                                    # [\"session1\", \"session2\", and/or \"session3\"]\n",
    "    \"loop_id\": ,\n",
    "    \"master_id\": ,\n",
    "    \"style_primary\": ,                              #   [\"afrobeat\", \"afrocuban\", \"blues\", \"country\", \"dance\", \"funk\",                                                          \"gospel\", \"highlife\", \"hiphop\", \"jazz\",\n",
    "                                                         \"latin\", \"middleeastern\", \"neworleans\", \"pop\", \n",
    "                                                         \"punk\", \"reggae\", \"rock\", \"soul\"]\n",
    "    \"style_secondary\": ,\n",
    "    \"bpm\": None,                                    # [(range_0_lower_bound, range_0_upper_bound), ...,\n",
    "                                                    #   (range_n_lower_bound, range_n_upper_bound)]\n",
    "    \"beat_type\": ,                                  # [\"beat\" or \"fill\"]\n",
    "    \"time_signature\": ,                             # [\"4-4\", \"3-4\", \"6-8\"]\n",
    "    \"full_midi_filename\": ,                         # list_of full_midi_filenames\n",
    "    \"full_audio_filename\": ,                        # list_of full_audio_filename\n",
    "    \"number_of_instruments\": ,                      # [(n_instruments_lower_bound, n_instruments_upper_bound), ...,\n",
    "                                                    #  (n_instruments_lower_bound, n_instruments_upper_bound)]\n",
    "}]  \n",
    "\n",
    "\n",
    "\n",
    "\n",
    "\n",
    "\n",
    "##### <u> <i> Example 1 </i> </u>\n",
    "\n",
    "Create two subsets: first one with rock and funk samples only and the second one with reggae only\n",
    "\n",
    "Filter = [{\"style_primary\": [\"rock\", \"funk\"]}, {\"style_primary\": [\"reggae\"]}, ]\n",
    "\n",
    "##### <u> <i> Example 2 </i> </u>\n",
    "\n",
    "Create two subsets like above but only get the beats in the first one and fills in the second\n",
    "\n",
    "Filter = [{\"style_primary\": [\"rock\", \"funk\"], \"beat_type\": [\"beat\"]}, {\"style_primary\": [\"reggae\"], \"beat_type\": [\"fill\"]}, ]\n",
    "\n",
    "\n",
    "\n",
    "\n",
    "\n",
    "\n",
    "### <u> B. </u>  Create an instance of the GrooveMidiSubsetter and call the create_subsets() method\n",
    "\n",
    "\n",
    "------------------\n",
    "____________\n",
    "\n",
    "## More Detailed Examples Below"
   ]
  },
  {
   "cell_type": "markdown",
   "metadata": {},
   "source": [
    "##### 1. A. Load entire set without any filters\n",
    "----\n",
    "Step I. Create an instance of GrooveMidiSubsetter and set the path to pickle file as below\n",
    "\n",
    "Step II. set list_of_filter_dicts_for_subsets to None to ensure that the dataset is not filtered"
   ]
  },
  {
   "cell_type": "code",
   "execution_count": null,
   "metadata": {},
   "outputs": [],
   "source": [
    "gmd_all = GrooveMidiSubsetter(\n",
    "            pickle_source_path=\"../datasets_extracted_locally/GrooveMidi/hvo_0.3.0/Processed_On_13_05_2021_at_12_56_hrs\",\n",
    "            subset=\"GrooveMIDI_processed_train\",\n",
    "            hvo_pickle_filename=\"hvo_sequence_data.obj\",\n",
    "            list_of_filter_dicts_for_subsets=None,\n",
    "    )\n",
    "tags, subsets = gmd_all.create_subsets()\n",
    "for ix, (tag, subset) in enumerate(zip(tags, subsets)):\n",
    "    print(\"Subset {} --> Tag {} --> n_samples {}\".format(ix, tag, len(subset)))\n",
    "   "
   ]
  },
  {
   "cell_type": "markdown",
   "metadata": {},
   "source": [
    "##### 1. B. Create style specific subsets\n",
    "----\n",
    "from Subset_Creators.subsetters import GrooveMidiSubsetter"
   ]
  },
  {
   "cell_type": "code",
   "execution_count": 11,
   "metadata": {},
   "outputs": [
    {
     "name": "stdout",
     "output_type": "stream",
     "text": [
      "Subset 0 --> Tag ['afrobeat'] --> n_samples 779\n",
      "Subset 1 --> Tag ['afrocuban'] --> n_samples 773\n",
      "Subset 2 --> Tag ['blues'] --> n_samples 87\n",
      "Subset 3 --> Tag ['country'] --> n_samples 122\n",
      "Subset 4 --> Tag ['dance'] --> n_samples 548\n",
      "Subset 5 --> Tag ['funk'] --> n_samples 1636\n",
      "Subset 6 --> Tag ['gospel'] --> n_samples 0\n",
      "Subset 7 --> Tag ['highlife'] --> n_samples 47\n",
      "Subset 8 --> Tag ['hiphop'] --> n_samples 739\n",
      "Subset 9 --> Tag ['jazz'] --> n_samples 2323\n",
      "Subset 10 --> Tag ['latin'] --> n_samples 2970\n",
      "Subset 11 --> Tag ['middleeastern'] --> n_samples 118\n",
      "Subset 12 --> Tag ['neworleans'] --> n_samples 734\n",
      "Subset 13 --> Tag ['pop'] --> n_samples 120\n",
      "Subset 14 --> Tag ['punk'] --> n_samples 94\n",
      "Subset 15 --> Tag ['reggae'] --> n_samples 161\n",
      "Subset 16 --> Tag ['rock'] --> n_samples 5563\n",
      "Subset 17 --> Tag ['soul'] --> n_samples 294\n"
     ]
    }
   ],
   "source": [
    "styles = [\"afrobeat\", \"afrocuban\", \"blues\", \"country\", \"dance\",\n",
    "          \"funk\", \"gospel\", \"highlife\", \"hiphop\", \"jazz\",\n",
    "          \"latin\", \"middleeastern\", \"neworleans\", \"pop\",\n",
    "          \"punk\", \"reggae\", \"rock\", \"soul\"]\n",
    "\n",
    "\n",
    "list_of_filter_dicts_for_subsets = [{\"style_primary\": [style]} for style in styles]\n",
    "\n",
    "gmd_by_style = GrooveMidiSubsetter(\n",
    "            pickle_source_path=\"../datasets_extracted_locally/GrooveMidi/hvo_0.3.0/Processed_On_13_05_2021_at_12_56_hrs\",\n",
    "            subset=\"GrooveMIDI_processed_train\",\n",
    "            hvo_pickle_filename=\"hvo_sequence_data.obj\",\n",
    "            list_of_filter_dicts_for_subsets=list_of_filter_dicts_for_subsets,\n",
    "    )\n",
    "tags_by_style, subsets_by_style = gmd_by_style.create_subsets()\n",
    "for ix, (tag, subset) in enumerate(zip(tags_by_style, subsets_by_style)):\n",
    "    print(\"Subset {} --> Tag {} --> n_samples {}\".format(ix, tag, len(subset)))"
   ]
  },
  {
   "cell_type": "markdown",
   "metadata": {},
   "source": [
    "##### 1. C. Create style specific subsets BUT ignore fills\n",
    "----\n"
   ]
  },
  {
   "cell_type": "code",
   "execution_count": 13,
   "metadata": {},
   "outputs": [
    {
     "name": "stdout",
     "output_type": "stream",
     "text": [
      "Subset 0 --> Tag ['afrobeat']_AND_['beat'] --> n_samples 779\n",
      "Subset 1 --> Tag ['afrocuban']_AND_['beat'] --> n_samples 772\n",
      "Subset 2 --> Tag ['blues']_AND_['beat'] --> n_samples 87\n",
      "Subset 3 --> Tag ['country']_AND_['beat'] --> n_samples 119\n",
      "Subset 4 --> Tag ['dance']_AND_['beat'] --> n_samples 548\n",
      "Subset 5 --> Tag ['funk']_AND_['beat'] --> n_samples 1578\n",
      "Subset 6 --> Tag ['gospel']_AND_['beat'] --> n_samples 0\n",
      "Subset 7 --> Tag ['highlife']_AND_['beat'] --> n_samples 47\n",
      "Subset 8 --> Tag ['hiphop']_AND_['beat'] --> n_samples 712\n",
      "Subset 9 --> Tag ['jazz']_AND_['beat'] --> n_samples 2300\n",
      "Subset 10 --> Tag ['latin']_AND_['beat'] --> n_samples 2970\n",
      "Subset 11 --> Tag ['middleeastern']_AND_['beat'] --> n_samples 118\n",
      "Subset 12 --> Tag ['neworleans']_AND_['beat'] --> n_samples 721\n",
      "Subset 13 --> Tag ['pop']_AND_['beat'] --> n_samples 110\n",
      "Subset 14 --> Tag ['punk']_AND_['beat'] --> n_samples 94\n",
      "Subset 15 --> Tag ['reggae']_AND_['beat'] --> n_samples 161\n",
      "Subset 16 --> Tag ['rock']_AND_['beat'] --> n_samples 5483\n",
      "Subset 17 --> Tag ['soul']_AND_['beat'] --> n_samples 279\n"
     ]
    }
   ],
   "source": [
    "list_of_filter_dicts_for_subsets = [{\"style_primary\": [style], \"beat_type\": [\"beat\"]} for style in styles]\n",
    "\n",
    "gmd_by_styl_and_beat = GrooveMidiSubsetter(\n",
    "            pickle_source_path=\"../datasets_extracted_locally/GrooveMidi/hvo_0.3.0/Processed_On_13_05_2021_at_12_56_hrs\",\n",
    "            subset=\"GrooveMIDI_processed_train\",\n",
    "            hvo_pickle_filename=\"hvo_sequence_data.obj\",\n",
    "            list_of_filter_dicts_for_subsets=list_of_filter_dicts_for_subsets,\n",
    "    )\n",
    "\n",
    "tags_by_style_and_beat, subsets_by_style_and_beat = gmd_by_styl_and_beat.create_subsets()\n",
    "for ix, (tag, subset) in enumerate(zip(tags_by_style_and_beat, subsets_by_style_and_beat)):\n",
    "    print(\"Subset {} --> Tag {} --> n_samples {}\".format(ix, tag, len(subset)))"
   ]
  },
  {
   "cell_type": "markdown",
   "metadata": {},
   "source": [
    "##### 1. D. Create style specific subsets BUT ignore fills, Also with BPMs Below 60 and above 160 and minimum of 3 active voices\n",
    "----\n"
   ]
  },
  {
   "cell_type": "code",
   "execution_count": 19,
   "metadata": {},
   "outputs": [
    {
     "name": "stdout",
     "output_type": "stream",
     "text": [
      "Subset 0 --> Tag ['afrobeat']_AND_['beat']_AND_[(0, 60), (160, 10000)]_AND_[(2, 10000)] --> n_samples 0\n",
      "Subset 1 --> Tag ['afrocuban']_AND_['beat']_AND_[(0, 60), (160, 10000)]_AND_[(2, 10000)] --> n_samples 0\n",
      "Subset 2 --> Tag ['blues']_AND_['beat']_AND_[(0, 60), (160, 10000)]_AND_[(2, 10000)] --> n_samples 0\n",
      "Subset 3 --> Tag ['country']_AND_['beat']_AND_[(0, 60), (160, 10000)]_AND_[(2, 10000)] --> n_samples 0\n",
      "Subset 4 --> Tag ['dance']_AND_['beat']_AND_[(0, 60), (160, 10000)]_AND_[(2, 10000)] --> n_samples 117\n",
      "Subset 5 --> Tag ['funk']_AND_['beat']_AND_[(0, 60), (160, 10000)]_AND_[(2, 10000)] --> n_samples 0\n",
      "Subset 6 --> Tag ['gospel']_AND_['beat']_AND_[(0, 60), (160, 10000)]_AND_[(2, 10000)] --> n_samples 0\n",
      "Subset 7 --> Tag ['highlife']_AND_['beat']_AND_[(0, 60), (160, 10000)]_AND_[(2, 10000)] --> n_samples 0\n",
      "Subset 8 --> Tag ['hiphop']_AND_['beat']_AND_[(0, 60), (160, 10000)]_AND_[(2, 10000)] --> n_samples 0\n",
      "Subset 9 --> Tag ['jazz']_AND_['beat']_AND_[(0, 60), (160, 10000)]_AND_[(2, 10000)] --> n_samples 1062\n",
      "Subset 10 --> Tag ['latin']_AND_['beat']_AND_[(0, 60), (160, 10000)]_AND_[(2, 10000)] --> n_samples 88\n",
      "Subset 11 --> Tag ['middleeastern']_AND_['beat']_AND_[(0, 60), (160, 10000)]_AND_[(2, 10000)] --> n_samples 0\n",
      "Subset 12 --> Tag ['neworleans']_AND_['beat']_AND_[(0, 60), (160, 10000)]_AND_[(2, 10000)] --> n_samples 0\n",
      "Subset 13 --> Tag ['pop']_AND_['beat']_AND_[(0, 60), (160, 10000)]_AND_[(2, 10000)] --> n_samples 0\n",
      "Subset 14 --> Tag ['punk']_AND_['beat']_AND_[(0, 60), (160, 10000)]_AND_[(2, 10000)] --> n_samples 0\n",
      "Subset 15 --> Tag ['reggae']_AND_['beat']_AND_[(0, 60), (160, 10000)]_AND_[(2, 10000)] --> n_samples 0\n",
      "Subset 16 --> Tag ['rock']_AND_['beat']_AND_[(0, 60), (160, 10000)]_AND_[(2, 10000)] --> n_samples 281\n",
      "Subset 17 --> Tag ['soul']_AND_['beat']_AND_[(0, 60), (160, 10000)]_AND_[(2, 10000)] --> n_samples 0\n"
     ]
    }
   ],
   "source": [
    "list_of_filter_dicts_for_subsets = [{\"style_primary\": [style], \"beat_type\": [\"beat\"], \n",
    "                                     \"bpm\":[(0, 60), (160, 10000)],\n",
    "                                     \"number_of_instruments\": [(2, 10000)]\n",
    "                                    } for style in styles]\n",
    "\n",
    "gmd_by_styl_and_beat = GrooveMidiSubsetter(\n",
    "            pickle_source_path=\"../datasets_extracted_locally/GrooveMidi/hvo_0.3.0/Processed_On_13_05_2021_at_12_56_hrs\",\n",
    "            subset=\"GrooveMIDI_processed_train\",\n",
    "            hvo_pickle_filename=\"hvo_sequence_data.obj\",\n",
    "            list_of_filter_dicts_for_subsets=list_of_filter_dicts_for_subsets,\n",
    "    )\n",
    "\n",
    "tags_by_style_and_beat, subsets_by_style_and_beat = gmd_by_styl_and_beat.create_subsets()\n",
    "for ix, (tag, subset) in enumerate(zip(tags_by_style_and_beat, subsets_by_style_and_beat)):\n",
    "    print(\"Subset {} --> Tag {} --> n_samples {}\".format(ix, tag, len(subset)))"
   ]
  },
  {
   "cell_type": "code",
   "execution_count": null,
   "metadata": {},
   "outputs": [],
   "source": []
  }
 ],
 "metadata": {
  "kernelspec": {
   "display_name": "torch_thesis",
   "language": "python",
   "name": "torch_thesis"
  },
  "language_info": {
   "codemirror_mode": {
    "name": "ipython",
    "version": 3
   },
   "file_extension": ".py",
   "mimetype": "text/x-python",
   "name": "python",
   "nbconvert_exporter": "python",
   "pygments_lexer": "ipython3",
   "version": "3.6.13"
  }
 },
 "nbformat": 4,
 "nbformat_minor": 1
}